{
 "cells": [
  {
   "cell_type": "markdown",
   "metadata": {},
   "source": [
    "# pyAllegro: WebApi"
   ]
  },
  {
   "cell_type": "markdown",
   "metadata": {},
   "source": [
    "## Import package and setup credentials"
   ]
  },
  {
   "cell_type": "code",
   "execution_count": 1,
   "metadata": {},
   "outputs": [],
   "source": [
    "from pyAllegro.api import AllegroRestApi"
   ]
  },
  {
   "cell_type": "markdown",
   "metadata": {},
   "source": [
    "```\n",
    "from allegro_api.AllegroRestApi import AllegroRestApi\n",
    "\n",
    "RestApi = AllegroRestApi()\n",
    "#RestApi = AllegroRestApi(config_file_dir='/Users/xszpo/.allegroApiConfig')\n",
    "\n",
    "RestApi.credentials_set(\n",
    "        appName='<credentials from allegro>',\n",
    "        clientId='<credentials from allegro>',\n",
    "        clientSecred='<credentials from allegro>',\n",
    "        redirectUrl='http://localhost:8000'\n",
    "        )\n",
    "```"
   ]
  },
  {
   "cell_type": "markdown",
   "metadata": {},
   "source": [
    "# Start"
   ]
  },
  {
   "cell_type": "markdown",
   "metadata": {},
   "source": [
    "## Get token"
   ]
  },
  {
   "cell_type": "code",
   "execution_count": 2,
   "metadata": {},
   "outputs": [],
   "source": [
    "from pyAllegro.api import AllegroRestApi"
   ]
  },
  {
   "cell_type": "code",
   "execution_count": 3,
   "metadata": {},
   "outputs": [],
   "source": [
    "RestApi = AllegroRestApi()"
   ]
  },
  {
   "cell_type": "code",
   "execution_count": null,
   "metadata": {},
   "outputs": [],
   "source": [
    "RestApi.get_token()"
   ]
  },
  {
   "cell_type": "markdown",
   "metadata": {},
   "source": [
    "```\n",
    "RestApi.get_token()\n",
    "\n",
    "server_address: ('localhost', 8000)\n",
    "Waiting for response with access_code from Allegro.pl (user authorization in progress)...\n",
    "Got an authorize code\n",
    "```\n",
    "During this process you will be redirected to allegro login page and you will be ask for access to your allegro account.   \n",
    "<br/>\n",
    "Token that you'll recive is valid for 12 hours.    \n",
    "After this time Allegro will refer it automatically - within one year after get_token().\n",
    "\n",
    "You can refresh manually with ```RestApi.refresh_token()```   \n",
    "Later you need to call ```RestApi.get_token()``` again."
   ]
  },
  {
   "cell_type": "markdown",
   "metadata": {},
   "source": [
    "## RestApi methods - how to use"
   ]
  },
  {
   "cell_type": "markdown",
   "metadata": {},
   "source": [
    "When you load PyAllegro and initiate AllegroRestApi instance next time try ```RestApi.load_token()``` method to get token.   \n",
    "If it doesn't work use ```RestApi.refresh_token()``` .    \n",
    "It it still doesn't work use ```RestApi.get_token()``` again."
   ]
  },
  {
   "cell_type": "code",
   "execution_count": 4,
   "metadata": {},
   "outputs": [],
   "source": [
    "from pyAllegro.api import AllegroRestApi"
   ]
  },
  {
   "cell_type": "code",
   "execution_count": 5,
   "metadata": {},
   "outputs": [],
   "source": [
    "RestApi = AllegroRestApi()"
   ]
  },
  {
   "cell_type": "code",
   "execution_count": 6,
   "metadata": {},
   "outputs": [],
   "source": [
    "RestApi.load_token()"
   ]
  },
  {
   "cell_type": "markdown",
   "metadata": {},
   "source": [
    "You cann use all get methods listed [here](https://developer.allegro.pl/documentation/) with ```RestApi.resource_get(resource_name='...',params={...})```"
   ]
  },
  {
   "cell_type": "markdown",
   "metadata": {},
   "source": [
    "### User ratings summary"
   ]
  },
  {
   "cell_type": "code",
   "execution_count": 8,
   "metadata": {
    "scrolled": true
   },
   "outputs": [],
   "source": [
    "status_code, json_data = RestApi.resource_get(\n",
    "        resource_name='/users/{userId}/ratings-summary'.format(\n",
    "                **{'userId': 11791190}),\n",
    "        params={}\n",
    "        )"
   ]
  },
  {
   "cell_type": "markdown",
   "metadata": {},
   "source": [
    "In response you will recive ```response.status_code``` and ```json``` with data"
   ]
  },
  {
   "cell_type": "code",
   "execution_count": 9,
   "metadata": {},
   "outputs": [
    {
     "data": {
      "text/plain": [
       "200"
      ]
     },
     "execution_count": 9,
     "metadata": {},
     "output_type": "execute_result"
    }
   ],
   "source": [
    "status_code"
   ]
  },
  {
   "cell_type": "code",
   "execution_count": 10,
   "metadata": {},
   "outputs": [
    {
     "data": {
      "text/plain": [
       "{'recommended': {'unique': 6190, 'total': 6441},\n",
       " 'notRecommended': {'unique': 7, 'total': 7},\n",
       " 'recommendedPercentage': '99,9',\n",
       " 'averageRates': {'delivery': 5.0,\n",
       "  'deliveryCost': 4.9,\n",
       "  'service': 5.0,\n",
       "  'description': 5.0}}"
      ]
     },
     "execution_count": 10,
     "metadata": {},
     "output_type": "execute_result"
    }
   ],
   "source": [
    "json_data"
   ]
  },
  {
   "cell_type": "markdown",
   "metadata": {},
   "source": [
    "### offers listing - allegro search"
   ]
  },
  {
   "cell_type": "code",
   "execution_count": 11,
   "metadata": {
    "scrolled": false
   },
   "outputs": [],
   "source": [
    "status_code, json_data = RestApi.resource_get(\n",
    "        resource_name='/offers/listing',\n",
    "        params={'phrase': 'Dell Inspiron 7347 i5-4210U/8GB/256/Win8 FHD Dotyk',\n",
    "                'limit' : 1}\n",
    "        )"
   ]
  },
  {
   "cell_type": "code",
   "execution_count": 12,
   "metadata": {
    "scrolled": false
   },
   "outputs": [
    {
     "data": {
      "text/plain": [
       "{'items': {'promoted': [], 'regular': []},\n",
       " 'searchMeta': {'availableCount': 0, 'totalCount': 0, 'fallback': False},\n",
       " 'categories': {'subcategories': [],\n",
       "  'path': [{'id': '954b95b6-43cf-4104-8354-dea4d9b10ddf', 'name': 'Allegro'}]},\n",
       " 'filters': [{'id': 'sellingMode.format',\n",
       "   'type': 'MULTI',\n",
       "   'name': 'rodzaj oferty',\n",
       "   'values': [{'value': 'BUY_NOW',\n",
       "     'name': 'kup teraz',\n",
       "     'count': 0,\n",
       "     'selected': False},\n",
       "    {'value': 'AUCTION', 'name': 'licytacje', 'count': 0, 'selected': False}]},\n",
       "  {'id': 'price',\n",
       "   'type': 'NUMERIC',\n",
       "   'name': 'cena (zł)',\n",
       "   'values': [{'idSuffix': '.from', 'name': 'od', 'selected': False},\n",
       "    {'idSuffix': '.to', 'name': 'do', 'selected': False}],\n",
       "   'minValue': 0,\n",
       "   'maxValue': 1000000000},\n",
       "  {'id': 'deliveryMethod',\n",
       "   'type': 'MULTI',\n",
       "   'name': 'sposoby dostawy',\n",
       "   'values': [{'value': '5b445fa0580ce26bb2f99602',\n",
       "     'name': 'Kurier',\n",
       "     'count': 0,\n",
       "     'selected': False},\n",
       "    {'value': '5b445fd9580ce26bb2f99608',\n",
       "     'name': 'Kurier wieczór',\n",
       "     'count': 0,\n",
       "     'selected': False},\n",
       "    {'value': '5b445fe6580ce26bb2f9960a',\n",
       "     'name': 'Paczkomaty InPost',\n",
       "     'count': 0,\n",
       "     'selected': False},\n",
       "    {'value': '5b446004580ce26bb2f9960c',\n",
       "     'name': 'Odbiór w punkcie',\n",
       "     'count': 0,\n",
       "     'selected': False},\n",
       "    {'value': '5b446013580ce26bb2f9960e',\n",
       "     'name': 'List',\n",
       "     'count': 0,\n",
       "     'selected': False},\n",
       "    {'value': '5b446031580ce26bb2f99610',\n",
       "     'name': 'Paczka',\n",
       "     'count': 0,\n",
       "     'selected': False},\n",
       "    {'value': '5b446044580ce26bb2f99612',\n",
       "     'name': 'Odbiór osobisty',\n",
       "     'count': 0,\n",
       "     'selected': False},\n",
       "    {'value': '5b44605c580ce26bb2f99614',\n",
       "     'name': 'Przesyłka elektroniczna',\n",
       "     'count': 0,\n",
       "     'selected': False}]},\n",
       "  {'id': 'location.province',\n",
       "   'type': 'SINGLE',\n",
       "   'name': 'województwo',\n",
       "   'values': [{'value': 'DOLNOSLASKIE',\n",
       "     'name': 'z dolnośląskiego',\n",
       "     'selected': False},\n",
       "    {'value': 'KUJAWSKO_POMORSKIE',\n",
       "     'name': 'z kujawsko-pomorskiego',\n",
       "     'selected': False},\n",
       "    {'value': 'LUBELSKIE', 'name': 'z lubelskiego', 'selected': False},\n",
       "    {'value': 'LUBUSKIE', 'name': 'z lubuskiego', 'selected': False},\n",
       "    {'value': 'LODZKIE', 'name': 'z łódzkiego', 'selected': False},\n",
       "    {'value': 'MALOPOLSKIE', 'name': 'z małopolskiego', 'selected': False},\n",
       "    {'value': 'MAZOWIECKIE', 'name': 'z mazowieckiego', 'selected': False},\n",
       "    {'value': 'OPOLSKIE', 'name': 'z opolskiego', 'selected': False},\n",
       "    {'value': 'PODKARPACKIE', 'name': 'z podkarpackiego', 'selected': False},\n",
       "    {'value': 'PODLASKIE', 'name': 'z podlaskiego', 'selected': False},\n",
       "    {'value': 'POMORSKIE', 'name': 'z pomorskiego', 'selected': False},\n",
       "    {'value': 'SLASKIE', 'name': 'ze śląskiego', 'selected': False},\n",
       "    {'value': 'SWIETOKRZYSKIE',\n",
       "     'name': 'ze świętokrzyskiego',\n",
       "     'selected': False},\n",
       "    {'value': 'WARMINSKO_MAZURSKIE',\n",
       "     'name': 'z warmińsko-mazurskiego',\n",
       "     'selected': False},\n",
       "    {'value': 'WIELKOPOLSKIE', 'name': 'z wielkopolskiego', 'selected': False},\n",
       "    {'value': 'ZACHODNIOPOMORSKIE',\n",
       "     'name': 'z zachodniopomorskiego',\n",
       "     'selected': False}]},\n",
       "  {'id': 'location.city',\n",
       "   'type': 'TEXT',\n",
       "   'name': 'miejscowość',\n",
       "   'values': [{'name': 'miejscowość', 'selected': False}]},\n",
       "  {'id': 'option',\n",
       "   'type': 'MULTI',\n",
       "   'name': 'oferta ma',\n",
       "   'values': [{'value': 'SUPERSELLER',\n",
       "     'name': 'Super Sprzedawca',\n",
       "     'selected': False},\n",
       "    {'value': 'COINS', 'name': 'Monety Allegro', 'selected': False},\n",
       "    {'value': 'FREE_RETURN',\n",
       "     'name': 'darmowy zwrot InPost',\n",
       "     'selected': False},\n",
       "    {'value': 'FREE_SHIPPING', 'name': 'darmowa dostawa', 'selected': False},\n",
       "    {'value': 'VAT_INVOICE', 'name': 'faktura VAT', 'selected': False},\n",
       "    {'value': 'BARGAIN', 'name': 'Strefa Okazji', 'selected': False},\n",
       "    {'value': 'BRAND_ZONE', 'name': 'Strefa Marek', 'selected': False}]},\n",
       "  {'id': 'campaign',\n",
       "   'type': 'MULTI',\n",
       "   'name': 'kampania',\n",
       "   'values': [{'value': 'SALE', 'name': 'wyprzedaż', 'selected': False},\n",
       "    {'value': 'INSTALLMENTS_ZERO', 'name': 'raty zero', 'selected': False}]}],\n",
       " 'sort': [{'value': '-relevance',\n",
       "   'name': 'trafność',\n",
       "   'order': 'największa',\n",
       "   'selected': True},\n",
       "  {'value': '+price',\n",
       "   'name': 'cena',\n",
       "   'order': 'od najniższej',\n",
       "   'selected': False},\n",
       "  {'value': '-price',\n",
       "   'name': 'cena',\n",
       "   'order': 'od najwyższej',\n",
       "   'selected': False},\n",
       "  {'value': '+withDeliveryPrice',\n",
       "   'name': 'cena z dostawą',\n",
       "   'order': 'od najniższej',\n",
       "   'selected': False},\n",
       "  {'value': '-withDeliveryPrice',\n",
       "   'name': 'cena z dostawą',\n",
       "   'order': 'od najwyższej',\n",
       "   'selected': False},\n",
       "  {'value': '-popularity',\n",
       "   'name': 'popularność',\n",
       "   'order': 'największa',\n",
       "   'selected': False},\n",
       "  {'value': '+endTime',\n",
       "   'name': 'czas do końca',\n",
       "   'order': 'najmniej',\n",
       "   'selected': False},\n",
       "  {'value': '-startTime',\n",
       "   'name': 'czas dodania',\n",
       "   'order': 'najnowsze',\n",
       "   'selected': False}]}"
      ]
     },
     "execution_count": 12,
     "metadata": {},
     "output_type": "execute_result"
    }
   ],
   "source": [
    "json_data"
   ]
  }
 ],
 "metadata": {
  "kernelspec": {
   "display_name": "Python 3",
   "language": "python",
   "name": "python3"
  },
  "language_info": {
   "codemirror_mode": {
    "name": "ipython",
    "version": 3
   },
   "file_extension": ".py",
   "mimetype": "text/x-python",
   "name": "python",
   "nbconvert_exporter": "python",
   "pygments_lexer": "ipython3",
   "version": "3.6.4"
  }
 },
 "nbformat": 4,
 "nbformat_minor": 2
}
