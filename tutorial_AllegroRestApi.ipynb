{
 "cells": [
  {
   "cell_type": "markdown",
   "metadata": {},
   "source": [
    "# Allegro Rest Api - quick tutorial"
   ]
  },
  {
   "cell_type": "markdown",
   "metadata": {},
   "source": [
    "https://developer.allegro.pl/documentation/"
   ]
  },
  {
   "cell_type": "markdown",
   "metadata": {},
   "source": [
    "## Get credentials"
   ]
  },
  {
   "cell_type": "markdown",
   "metadata": {},
   "source": [
    "\n",
    "\n",
    "First, you have to get credientials (register app) here [https://apps.developer.allegro.pl/](https://apps.developer.allegro.pl/)"
   ]
  },
  {
   "cell_type": "markdown",
   "metadata": {},
   "source": [
    "_______________"
   ]
  },
  {
   "cell_type": "markdown",
   "metadata": {},
   "source": [
    "## Setup up Rest api"
   ]
  },
  {
   "cell_type": "markdown",
   "metadata": {},
   "source": [
    "#### Install required packages"
   ]
  },
  {
   "cell_type": "code",
   "execution_count": 1,
   "metadata": {},
   "outputs": [
    {
     "name": "stdout",
     "output_type": "stream",
     "text": [
      "Requirement already satisfied: suds-jurko>=0.6 in /Users/xszpo/anaconda3/lib/python3.6/site-packages (from -r allegro_api/requirement.txt (line 1)) (0.6)\r\n",
      "Requirement already satisfied: requests>=2.11.1 in /Users/xszpo/anaconda3/lib/python3.6/site-packages (from -r allegro_api/requirement.txt (line 2)) (2.11.1)\r\n"
     ]
    }
   ],
   "source": [
    "!pip3 install -r allegro_api/requirement.txt"
   ]
  },
  {
   "cell_type": "markdown",
   "metadata": {},
   "source": [
    "#### Initiate RestApi object of AllegroRestApi class"
   ]
  },
  {
   "cell_type": "markdown",
   "metadata": {},
   "source": [
    "Here you can declare where you want to keep your credentials. By default its set to ```/Users/<user_name>/.allegroApiConfig```    "
   ]
  },
  {
   "cell_type": "markdown",
   "metadata": {},
   "source": [
    "```\n",
    "from allegro_api.AllegroRestApi import AllegroRestApi\n",
    "\n",
    "RestApi = AllegroRestApi()\n",
    "or\n",
    "RestApi = AllegroRestApi(config_file_dir = <your folder path>)\n",
    "```"
   ]
  },
  {
   "cell_type": "markdown",
   "metadata": {},
   "source": [
    "Setup your credentials - **you need to do it only once** because its saved and loaded from directory ```config_file_dir```"
   ]
  },
  {
   "cell_type": "markdown",
   "metadata": {},
   "source": [
    "```\n",
    "RestApi.credentials_set(\n",
    "        appName='<credentials from allegro>',\n",
    "        clientId='<credentials from allegro>',\n",
    "        clientSecred='<credentials from allegro>',\n",
    "        redirectUrl='<redirect uri - the same you provided during app registration on allegro >'\n",
    "        )\n",
    "```"
   ]
  },
  {
   "cell_type": "markdown",
   "metadata": {},
   "source": [
    "If you want to change one ofe the parameter you can use ```RestApi.credentials_field_set`` method, ex:"
   ]
  },
  {
   "cell_type": "markdown",
   "metadata": {},
   "source": [
    "```\n",
    "RestApi.credentials_field_set('appName', <new_value>)\n",
    "```"
   ]
  },
  {
   "cell_type": "markdown",
   "metadata": {},
   "source": [
    "------------"
   ]
  },
  {
   "cell_type": "markdown",
   "metadata": {},
   "source": [
    "## Get token"
   ]
  },
  {
   "cell_type": "code",
   "execution_count": 2,
   "metadata": {},
   "outputs": [],
   "source": [
    "from allegro_api.AllegroRestApi import AllegroRestApi"
   ]
  },
  {
   "cell_type": "code",
   "execution_count": 3,
   "metadata": {},
   "outputs": [],
   "source": [
    "RestApi = AllegroRestApi()"
   ]
  },
  {
   "cell_type": "markdown",
   "metadata": {},
   "source": [
    "Start your Web Api session"
   ]
  },
  {
   "cell_type": "code",
   "execution_count": null,
   "metadata": {},
   "outputs": [],
   "source": [
    "RestApi.get_token()"
   ]
  },
  {
   "cell_type": "markdown",
   "metadata": {},
   "source": [
    "```\n",
    "RestApi.get_token()\n",
    "\n",
    "server_address: ('localhost', 8000)\n",
    "Waiting for response with access_code from Allegro.pl (user authorization in progress)...\n",
    "Got an authorize code\n",
    "```"
   ]
  },
  {
   "cell_type": "markdown",
   "metadata": {},
   "source": [
    "During this process you will be redirected to allegro login page and you will have to allow your app to access to your allegro account."
   ]
  },
  {
   "cell_type": "markdown",
   "metadata": {},
   "source": [
    "Token that you recived is valid for 12 hours.    \n",
    "You can refresh it for one year with ```RestApi.refresh_token()```   \n",
    "After this you need to repeat this process again with ```RestApi.get_token()```"
   ]
  },
  {
   "cell_type": "markdown",
   "metadata": {},
   "source": [
    "Now you can use methods that are implemented in this package"
   ]
  },
  {
   "cell_type": "markdown",
   "metadata": {},
   "source": [
    "## RestApi methods"
   ]
  },
  {
   "cell_type": "markdown",
   "metadata": {},
   "source": [
    "When you start using RestAPi for the next time try to use ```RestApi.load_token()``` method.   \n",
    "If it doesn't work use ```RestApi.refresh_token()``` .    \n",
    "It it still doesn't work use ```RestApi.get_token()```."
   ]
  },
  {
   "cell_type": "code",
   "execution_count": 7,
   "metadata": {},
   "outputs": [],
   "source": [
    "from allegro_api.AllegroRestApi import AllegroRestApi"
   ]
  },
  {
   "cell_type": "code",
   "execution_count": 8,
   "metadata": {},
   "outputs": [],
   "source": [
    "RestApi = AllegroRestApi()"
   ]
  },
  {
   "cell_type": "code",
   "execution_count": 9,
   "metadata": {},
   "outputs": [],
   "source": [
    "RestApi.load_token()"
   ]
  },
  {
   "cell_type": "markdown",
   "metadata": {},
   "source": [
    "You cann use all get methods listed [here](https://developer.allegro.pl/documentation/) with ```RestApi.resource_get(resource_name='...',params={...})```"
   ]
  },
  {
   "cell_type": "code",
   "execution_count": 11,
   "metadata": {},
   "outputs": [
    {
     "data": {
      "text/plain": [
       "True"
      ]
     },
     "execution_count": 11,
     "metadata": {},
     "output_type": "execute_result"
    }
   ],
   "source": [
    "RestApi.rest_api_help()"
   ]
  },
  {
   "cell_type": "markdown",
   "metadata": {},
   "source": [
    "### eg. User ratings summary"
   ]
  },
  {
   "cell_type": "code",
   "execution_count": 12,
   "metadata": {},
   "outputs": [
    {
     "data": {
      "text/plain": [
       "{'recommended': {'unique': 6168, 'total': 6411},\n",
       " 'notRecommended': {'unique': 7, 'total': 7},\n",
       " 'recommendedPercentage': '99,9',\n",
       " 'averageRates': {'delivery': 5.0,\n",
       "  'deliveryCost': 4.9,\n",
       "  'service': 5.0,\n",
       "  'description': 5.0}}"
      ]
     },
     "execution_count": 12,
     "metadata": {},
     "output_type": "execute_result"
    }
   ],
   "source": [
    "RestApi.resource_get(\n",
    "        resource_name='/users/{userId}/ratings-summary'.format(\n",
    "                **{'userId': 11791190}),\n",
    "        params={}\n",
    "        )"
   ]
  },
  {
   "cell_type": "markdown",
   "metadata": {},
   "source": [
    "### eg. offers listing"
   ]
  },
  {
   "cell_type": "markdown",
   "metadata": {},
   "source": [
    "https://developer.allegro.pl/en/news/2018-07-03-Listing_ofert/"
   ]
  },
  {
   "cell_type": "code",
   "execution_count": 15,
   "metadata": {
    "scrolled": false
   },
   "outputs": [
    {
     "data": {
      "text/plain": [
       "{'items': {'promoted': [],\n",
       "  'regular': [{'id': '7444017472',\n",
       "    'name': 'Dell Inspiron 7347 i5-4210U/8GB/256/Win8 FHD Dotyk',\n",
       "    'seller': {'id': '1091465', 'company': False, 'superSeller': False},\n",
       "    'promotion': {'emphasized': False, 'bold': False, 'highlight': False},\n",
       "    'delivery': {'availableForFree': False,\n",
       "     'lowestPrice': {'amount': '20.00', 'currency': 'PLN'}},\n",
       "    'images': [{'url': 'https://2.allegroimg.com/original/03584a/f37d6e0a47f3a66317edea274432'},\n",
       "     {'url': 'https://0.allegroimg.com/original/0360d6/2f90796b4209a1d2508f8ce81500'},\n",
       "     {'url': 'https://3.allegroimg.com/original/03d9e7/97d393504e0389e70c9d6db605a3'},\n",
       "     {'url': 'https://3.allegroimg.com/original/036d4a/d0fa8ae34cf69f2af1e85fb7eb03'},\n",
       "     {'url': 'https://7.allegroimg.com/original/031a76/af7fb7784f8a9d13179c6af7dc87'},\n",
       "     {'url': 'https://4.allegroimg.com/original/032db3/b71f1b2044bba366289d04415c14'},\n",
       "     {'url': 'https://8.allegroimg.com/original/032cfa/8c3fd258462cb3f90ad01f747768'},\n",
       "     {'url': 'https://c.allegroimg.com/original/03d882/0004408a4891bff4721ff639ed2c'},\n",
       "     {'url': 'https://6.allegroimg.com/original/038ecd/3c5d36734b5684a61d9849158086'},\n",
       "     {'url': 'https://6.allegroimg.com/original/030d4b/db0913c24cabad87c1fb808372b6'}],\n",
       "    'sellingMode': {'format': 'BUY_NOW',\n",
       "     'price': {'amount': '1899.00', 'currency': 'PLN'},\n",
       "     'popularity': 0},\n",
       "    'stock': {'unit': 'UNIT', 'available': 1},\n",
       "    'category': {'id': '77917'},\n",
       "    'publication': {'endingAt': '2018-08-21T04:21:27.000Z'}}]},\n",
       " 'searchMeta': {'availableCount': 1, 'totalCount': 1, 'fallback': False},\n",
       " 'categories': {'subcategories': [{'id': '2',\n",
       "    'name': 'Komputery',\n",
       "    'count': 1}],\n",
       "  'path': [{'id': '954b95b6-43cf-4104-8354-dea4d9b10ddf', 'name': 'Allegro'}]},\n",
       " 'filters': [{'id': 'parameter.11323',\n",
       "   'type': 'MULTI',\n",
       "   'name': 'Stan',\n",
       "   'values': [{'value': '2',\n",
       "     'name': 'używane',\n",
       "     'count': 1,\n",
       "     'selected': False}]},\n",
       "  {'id': 'sellingMode.format',\n",
       "   'type': 'MULTI',\n",
       "   'name': 'rodzaj oferty',\n",
       "   'values': [{'value': 'BUY_NOW',\n",
       "     'name': 'kup teraz',\n",
       "     'count': 1,\n",
       "     'selected': False},\n",
       "    {'value': 'AUCTION', 'name': 'licytacje', 'count': 0, 'selected': False}]},\n",
       "  {'id': 'price',\n",
       "   'type': 'NUMERIC',\n",
       "   'name': 'cena (zł)',\n",
       "   'values': [{'idSuffix': '.from', 'name': 'od', 'selected': False},\n",
       "    {'idSuffix': '.to', 'name': 'do', 'selected': False}],\n",
       "   'minValue': 0,\n",
       "   'maxValue': 1000000000},\n",
       "  {'id': 'deliveryMethod',\n",
       "   'type': 'MULTI',\n",
       "   'name': 'sposoby dostawy',\n",
       "   'values': [{'value': '5b445fa0580ce26bb2f99602',\n",
       "     'name': 'Kurier',\n",
       "     'count': 1,\n",
       "     'selected': False},\n",
       "    {'value': '5b445fd9580ce26bb2f99608',\n",
       "     'name': 'Kurier wieczór',\n",
       "     'count': 0,\n",
       "     'selected': False},\n",
       "    {'value': '5b445fe6580ce26bb2f9960a',\n",
       "     'name': 'Paczkomaty InPost',\n",
       "     'count': 0,\n",
       "     'selected': False},\n",
       "    {'value': '5b446004580ce26bb2f9960c',\n",
       "     'name': 'Odbiór w punkcie',\n",
       "     'count': 0,\n",
       "     'selected': False},\n",
       "    {'value': '5b446013580ce26bb2f9960e',\n",
       "     'name': 'List',\n",
       "     'count': 0,\n",
       "     'selected': False},\n",
       "    {'value': '5b446031580ce26bb2f99610',\n",
       "     'name': 'Paczka',\n",
       "     'count': 0,\n",
       "     'selected': False},\n",
       "    {'value': '5b446044580ce26bb2f99612',\n",
       "     'name': 'Odbiór osobisty',\n",
       "     'count': 1,\n",
       "     'selected': False},\n",
       "    {'value': '5b44605c580ce26bb2f99614',\n",
       "     'name': 'Przesyłka elektroniczna',\n",
       "     'count': 0,\n",
       "     'selected': False}]},\n",
       "  {'id': 'location.province',\n",
       "   'type': 'SINGLE',\n",
       "   'name': 'województwo',\n",
       "   'values': [{'value': 'DOLNOSLASKIE',\n",
       "     'name': 'z dolnośląskiego',\n",
       "     'selected': False},\n",
       "    {'value': 'KUJAWSKO_POMORSKIE',\n",
       "     'name': 'z kujawsko-pomorskiego',\n",
       "     'selected': False},\n",
       "    {'value': 'LUBELSKIE', 'name': 'z lubelskiego', 'selected': False},\n",
       "    {'value': 'LUBUSKIE', 'name': 'z lubuskiego', 'selected': False},\n",
       "    {'value': 'LODZKIE', 'name': 'z łódzkiego', 'selected': False},\n",
       "    {'value': 'MALOPOLSKIE', 'name': 'z małopolskiego', 'selected': False},\n",
       "    {'value': 'MAZOWIECKIE', 'name': 'z mazowieckiego', 'selected': False},\n",
       "    {'value': 'OPOLSKIE', 'name': 'z opolskiego', 'selected': False},\n",
       "    {'value': 'PODKARPACKIE', 'name': 'z podkarpackiego', 'selected': False},\n",
       "    {'value': 'PODLASKIE', 'name': 'z podlaskiego', 'selected': False},\n",
       "    {'value': 'POMORSKIE', 'name': 'z pomorskiego', 'selected': False},\n",
       "    {'value': 'SLASKIE', 'name': 'ze śląskiego', 'selected': False},\n",
       "    {'value': 'SWIETOKRZYSKIE',\n",
       "     'name': 'ze świętokrzyskiego',\n",
       "     'selected': False},\n",
       "    {'value': 'WARMINSKO_MAZURSKIE',\n",
       "     'name': 'z warmińsko-mazurskiego',\n",
       "     'selected': False},\n",
       "    {'value': 'WIELKOPOLSKIE', 'name': 'z wielkopolskiego', 'selected': False},\n",
       "    {'value': 'ZACHODNIOPOMORSKIE',\n",
       "     'name': 'z zachodniopomorskiego',\n",
       "     'selected': False}]},\n",
       "  {'id': 'location.city',\n",
       "   'type': 'TEXT',\n",
       "   'name': 'miejscowość',\n",
       "   'values': [{'name': 'miejscowość', 'selected': False}]},\n",
       "  {'id': 'option',\n",
       "   'type': 'MULTI',\n",
       "   'name': 'oferta ma',\n",
       "   'values': [{'value': 'SUPERSELLER',\n",
       "     'name': 'Super Sprzedawca',\n",
       "     'selected': False},\n",
       "    {'value': 'COINS', 'name': 'Monety Allegro', 'selected': False},\n",
       "    {'value': 'FREE_RETURN',\n",
       "     'name': 'darmowy zwrot InPost',\n",
       "     'selected': False},\n",
       "    {'value': 'FREE_SHIPPING', 'name': 'darmowa dostawa', 'selected': False},\n",
       "    {'value': 'VAT_INVOICE', 'name': 'faktura VAT', 'selected': False},\n",
       "    {'value': 'BARGAIN', 'name': 'Strefa Okazji', 'selected': False},\n",
       "    {'value': 'BRAND_ZONE', 'name': 'Strefa Marek', 'selected': False}]},\n",
       "  {'id': 'campaign',\n",
       "   'type': 'MULTI',\n",
       "   'name': 'kampania',\n",
       "   'values': [{'value': 'SALE', 'name': 'wyprzedaż', 'selected': False},\n",
       "    {'value': 'INSTALLMENTS_ZERO', 'name': 'raty zero', 'selected': False}]}],\n",
       " 'sort': [{'value': '-relevance',\n",
       "   'name': 'trafność',\n",
       "   'order': 'największa',\n",
       "   'selected': True},\n",
       "  {'value': '+price',\n",
       "   'name': 'cena',\n",
       "   'order': 'od najniższej',\n",
       "   'selected': False},\n",
       "  {'value': '-price',\n",
       "   'name': 'cena',\n",
       "   'order': 'od najwyższej',\n",
       "   'selected': False},\n",
       "  {'value': '+withDeliveryPrice',\n",
       "   'name': 'cena z dostawą',\n",
       "   'order': 'od najniższej',\n",
       "   'selected': False},\n",
       "  {'value': '-withDeliveryPrice',\n",
       "   'name': 'cena z dostawą',\n",
       "   'order': 'od najwyższej',\n",
       "   'selected': False},\n",
       "  {'value': '-popularity',\n",
       "   'name': 'popularność',\n",
       "   'order': 'największa',\n",
       "   'selected': False},\n",
       "  {'value': '+endTime',\n",
       "   'name': 'czas do końca',\n",
       "   'order': 'najmniej',\n",
       "   'selected': False},\n",
       "  {'value': '-startTime',\n",
       "   'name': 'czas dodania',\n",
       "   'order': 'najnowsze',\n",
       "   'selected': False}]}"
      ]
     },
     "execution_count": 15,
     "metadata": {},
     "output_type": "execute_result"
    }
   ],
   "source": [
    "RestApi.resource_get(\n",
    "        resource_name='/offers/listing',\n",
    "        params={'phrase': 'Dell Inspiron 7347 i5-4210U/8GB/256/Win8 FHD Dotyk'}\n",
    "        )"
   ]
  }
 ],
 "metadata": {
  "kernelspec": {
   "display_name": "Python 3",
   "language": "python",
   "name": "python3"
  },
  "language_info": {
   "codemirror_mode": {
    "name": "ipython",
    "version": 3
   },
   "file_extension": ".py",
   "mimetype": "text/x-python",
   "name": "python",
   "nbconvert_exporter": "python",
   "pygments_lexer": "ipython3",
   "version": "3.6.4"
  }
 },
 "nbformat": 4,
 "nbformat_minor": 2
}
