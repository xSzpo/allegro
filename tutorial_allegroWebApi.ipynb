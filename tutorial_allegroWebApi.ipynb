{
 "cells": [
  {
   "cell_type": "markdown",
   "metadata": {},
   "source": [
    "# Allegro Web Api - quick tutorial"
   ]
  },
  {
   "cell_type": "markdown",
   "metadata": {},
   "source": [
    "## Get credentials"
   ]
  },
  {
   "cell_type": "markdown",
   "metadata": {},
   "source": [
    "\n",
    "\n",
    "First, you have to get credientials (register app) here [https://apps.developer.allegro.pl/](https://apps.developer.allegro.pl/)"
   ]
  },
  {
   "cell_type": "markdown",
   "metadata": {},
   "source": [
    "Generate your special app password [here](https://allegro.pl/myaccount/Settings/security_settings.php/applicationPasswords)."
   ]
  },
  {
   "cell_type": "markdown",
   "metadata": {},
   "source": [
    "_______________"
   ]
  },
  {
   "cell_type": "markdown",
   "metadata": {},
   "source": [
    "## Setup up web api"
   ]
  },
  {
   "cell_type": "markdown",
   "metadata": {},
   "source": [
    "#### Install required packages"
   ]
  },
  {
   "cell_type": "code",
   "execution_count": 1,
   "metadata": {},
   "outputs": [
    {
     "name": "stdout",
     "output_type": "stream",
     "text": [
      "Requirement already satisfied: suds-jurko>=0.6 in /Users/xszpo/anaconda3/lib/python3.6/site-packages (from -r allegro_api/requirement.txt (line 1)) (0.6)\n",
      "Requirement already satisfied: requests>=2.11.1 in /Users/xszpo/anaconda3/lib/python3.6/site-packages (from -r allegro_api/requirement.txt (line 2)) (2.11.1)\n"
     ]
    }
   ],
   "source": [
    "!pip3 install -r allegro_api/requirement.txt"
   ]
  },
  {
   "cell_type": "markdown",
   "metadata": {},
   "source": [
    "#### Initiate WebApi object of AllegroWebApi class"
   ]
  },
  {
   "cell_type": "markdown",
   "metadata": {},
   "source": [
    "Here you can declare where you want to keep your credentials. By default its set to ```/Users/<user_name>/.allegroApiConfig```    "
   ]
  },
  {
   "cell_type": "markdown",
   "metadata": {},
   "source": [
    "```\n",
    "from allegro_api.AllegroWebApi import AllegroWebApi\n",
    "\n",
    "AllegroWebApi()\n",
    "or\n",
    "AllegroWebApi(config_file_dir = <your folder path>)\n",
    "```"
   ]
  },
  {
   "cell_type": "markdown",
   "metadata": {},
   "source": [
    "Setup your credentials - **you need to do it only once** because its saved and loaded from directory ```config_file_dir```"
   ]
  },
  {
   "cell_type": "markdown",
   "metadata": {},
   "source": [
    "```\n",
    "WebApi.credentials_set(\n",
    "        appName='<credentials from allegro>',\n",
    "        clientId='<credentials from allegro>',\n",
    "        clientSecred='<credentials from allegro>',\n",
    "        userLogin='<allegro login>',\n",
    "        redirectUrl='<redirect uri - the same you provided during app registration on allegro >',\n",
    "        appPassword='<app password>'\n",
    "        )\n",
    "```"
   ]
  },
  {
   "cell_type": "markdown",
   "metadata": {},
   "source": [
    "------------"
   ]
  },
  {
   "cell_type": "markdown",
   "metadata": {},
   "source": [
    "## Start using Web Api"
   ]
  },
  {
   "cell_type": "code",
   "execution_count": 3,
   "metadata": {},
   "outputs": [],
   "source": [
    "from allegro_api.AllegroWebApi import AllegroWebApi"
   ]
  },
  {
   "cell_type": "code",
   "execution_count": 4,
   "metadata": {},
   "outputs": [],
   "source": [
    "WebApi = AllegroWebApi()"
   ]
  },
  {
   "cell_type": "markdown",
   "metadata": {},
   "source": [
    "Start your Web Api session"
   ]
  },
  {
   "cell_type": "code",
   "execution_count": 5,
   "metadata": {},
   "outputs": [],
   "source": [
    "WebApi.start_sesion()"
   ]
  },
  {
   "cell_type": "markdown",
   "metadata": {},
   "source": [
    "Now you can use methods that are implemented in this package"
   ]
  },
  {
   "cell_type": "markdown",
   "metadata": {},
   "source": [
    "```\n",
    "WebApi.doGetMyData()\n",
    "```"
   ]
  },
  {
   "cell_type": "markdown",
   "metadata": {},
   "source": [
    "All methods that allegro Web Api provided are listed [here](https://allegro.pl/webapi/documentation.php):"
   ]
  },
  {
   "cell_type": "code",
   "execution_count": 6,
   "metadata": {},
   "outputs": [
    {
     "data": {
      "text/plain": [
       "True"
      ]
     },
     "execution_count": 6,
     "metadata": {},
     "output_type": "execute_result"
    }
   ],
   "source": [
    "WebApi.web_api_help()"
   ]
  },
  {
   "cell_type": "markdown",
   "metadata": {},
   "source": [
    "But for now I've implemented olny this few:"
   ]
  },
  {
   "cell_type": "markdown",
   "metadata": {},
   "source": [
    "#### doGetUserID"
   ]
  },
  {
   "cell_type": "code",
   "execution_count": 7,
   "metadata": {
    "scrolled": true
   },
   "outputs": [
    {
     "data": {
      "text/plain": [
       "1091465"
      ]
     },
     "execution_count": 7,
     "metadata": {},
     "output_type": "execute_result"
    }
   ],
   "source": [
    "WebApi.doGetUserID(userLogin='nicke1')"
   ]
  },
  {
   "cell_type": "markdown",
   "metadata": {},
   "source": [
    "#### doGetUserLogin"
   ]
  },
  {
   "cell_type": "code",
   "execution_count": 8,
   "metadata": {},
   "outputs": [
    {
     "data": {
      "text/plain": [
       "nicke1"
      ]
     },
     "execution_count": 8,
     "metadata": {},
     "output_type": "execute_result"
    }
   ],
   "source": [
    "WebApi.doGetUserLogin(userId=1091465)"
   ]
  },
  {
   "cell_type": "markdown",
   "metadata": {},
   "source": [
    "#### doShowUser"
   ]
  },
  {
   "cell_type": "code",
   "execution_count": 9,
   "metadata": {
    "scrolled": false
   },
   "outputs": [
    {
     "data": {
      "text/plain": [
       "(reply){\n",
       "   userId = 41952603\n",
       "   userLogin = \"wwwprogres24pl\"\n",
       "   userCountry = 1\n",
       "   userCreateDate = 1448795152\n",
       "   userLoginDate = 1534621172\n",
       "   userRating = 0\n",
       "   userIsNewUser = 1\n",
       "   userNotActivated = 0\n",
       "   userClosed = 0\n",
       "   userBlocked = 0\n",
       "   userTerminated = 0\n",
       "   userHasPage = 0\n",
       "   userIsSseller = 0\n",
       "   userIsEco = 0\n",
       "   userPositiveFeedback = \n",
       "      (ShowUserFeedbacks){\n",
       "         userFLastWeek = 0\n",
       "         userFLastMonth = 0\n",
       "         userFAll = 0\n",
       "         userFSoldItems = 0\n",
       "         userFBuyItems = 0\n",
       "      }\n",
       "   userNegativeFeedback = \n",
       "      (ShowUserFeedbacks){\n",
       "         userFLastWeek = 0\n",
       "         userFLastMonth = 0\n",
       "         userFAll = 0\n",
       "         userFSoldItems = 0\n",
       "         userFBuyItems = 0\n",
       "      }\n",
       "   userNeutralFeedback = \n",
       "      (ShowUserFeedbacks){\n",
       "         userFLastWeek = 0\n",
       "         userFLastMonth = 0\n",
       "         userFAll = 0\n",
       "         userFSoldItems = 0\n",
       "         userFBuyItems = 0\n",
       "      }\n",
       "   userJuniorStatus = 0\n",
       "   userHasShop = 1\n",
       "   userCompanyIcon = 1\n",
       "   userSellRatingCount = 0\n",
       "   userSellRatingAverage = \"\"\n",
       "   userIsAllegroStandard = 0\n",
       "   userIsB2cSeller = 0\n",
       " }"
      ]
     },
     "execution_count": 9,
     "metadata": {},
     "output_type": "execute_result"
    }
   ],
   "source": [
    "WebApi.doShowUser(userLogin='wwwprogres24pl')"
   ]
  },
  {
   "cell_type": "markdown",
   "metadata": {},
   "source": [
    "As for now that's the only methods tha I need.    \n",
    "Check out Rest Api - here you can use all of the get methods that are provided by allegro."
   ]
  }
 ],
 "metadata": {
  "kernelspec": {
   "display_name": "Python 3",
   "language": "python",
   "name": "python3"
  },
  "language_info": {
   "codemirror_mode": {
    "name": "ipython",
    "version": 3
   },
   "file_extension": ".py",
   "mimetype": "text/x-python",
   "name": "python",
   "nbconvert_exporter": "python",
   "pygments_lexer": "ipython3",
   "version": "3.6.4"
  }
 },
 "nbformat": 4,
 "nbformat_minor": 2
}
