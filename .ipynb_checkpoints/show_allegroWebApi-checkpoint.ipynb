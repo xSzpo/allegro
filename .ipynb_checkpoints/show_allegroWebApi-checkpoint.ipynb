{
 "cells": [
  {
   "cell_type": "markdown",
   "metadata": {},
   "source": [
    "## Jak korzystać z Web Api Allegro"
   ]
  },
  {
   "cell_type": "markdown",
   "metadata": {},
   "source": [
    "najpierw zarejestruj się tutaj [https://apps.developer.allegro.pl/](https://apps.developer.allegro.pl/)"
   ]
  },
  {
   "cell_type": "markdown",
   "metadata": {},
   "source": [
    "uzyskane dane umieść w pliku ```credentials.json``` o strukturze:\n",
    "```\n",
    "{\n",
    "\"nazwaAplikacji\":\"x...\",\n",
    "\"clientId\":\"8....8\",\n",
    "\"clientSecred\":\"tU....uK\",\n",
    "\"redirect\":\"https:...o\",\n",
    "\"appPassword\":\"A....\"\n",
    "}\n",
    "```\n",
    "ścieżkę dostępu do pliku zapisz do zmiennej ```credentialsPath```"
   ]
  },
  {
   "cell_type": "code",
   "execution_count": 3,
   "metadata": {},
   "outputs": [],
   "source": [
    "credentialsPath = '../credentials/credentials.json'"
   ]
  },
  {
   "cell_type": "markdown",
   "metadata": {},
   "source": [
    "W oparciu o tutorial [podstawy obslugi web apiallegro](https://cwsi.pl/ecommerce/allegro/podstawy-obslugi-web-api-allegro-pl-web-services-i-modul-suds-jurko-w-pythonie/) utworzono pakiet api i metody AllegroWebApi. Zaimportuj je"
   ]
  },
  {
   "cell_type": "code",
   "execution_count": 4,
   "metadata": {},
   "outputs": [],
   "source": [
    "from api.AllegroWebApi import AllegroWebApi"
   ]
  },
  {
   "cell_type": "markdown",
   "metadata": {},
   "source": [
    "Zainicjuj obiek WebApi klasy AllegroWebApi, pamiętaj aby podać ścieżę do pliku ```credentials.json```"
   ]
  },
  {
   "cell_type": "code",
   "execution_count": 5,
   "metadata": {},
   "outputs": [],
   "source": [
    "WebApi = AllegroWebApi(credentialsFilePath=credentialsPath)"
   ]
  },
  {
   "cell_type": "markdown",
   "metadata": {},
   "source": [
    "Uruchom sesję WebApi"
   ]
  },
  {
   "cell_type": "code",
   "execution_count": 6,
   "metadata": {},
   "outputs": [],
   "source": [
    "WebApi.web_api_start_sesion()"
   ]
  },
  {
   "cell_type": "markdown",
   "metadata": {},
   "source": [
    "Metody webApi można znaleź wywołująć [help](https://allegro.pl/webapi/documentation.php)"
   ]
  },
  {
   "cell_type": "code",
   "execution_count": 12,
   "metadata": {},
   "outputs": [
    {
     "data": {
      "text/plain": [
       "True"
      ]
     },
     "execution_count": 12,
     "metadata": {},
     "output_type": "execute_result"
    }
   ],
   "source": [
    "WebApi.web_api_help()"
   ]
  },
  {
   "cell_type": "markdown",
   "metadata": {},
   "source": [
    "Część z nich została zaimplementowana w pakiecie:"
   ]
  },
  {
   "cell_type": "markdown",
   "metadata": {},
   "source": [
    "**doGetUserID**  \n",
    "Metoda pozwala na sprawdzenie identyfikatora użytkownika na podstawie jego nazwy."
   ]
  },
  {
   "cell_type": "code",
   "execution_count": 8,
   "metadata": {},
   "outputs": [
    {
     "data": {
      "text/plain": [
       "1091465"
      ]
     },
     "execution_count": 8,
     "metadata": {},
     "output_type": "execute_result"
    }
   ],
   "source": [
    "WebApi.doGetUserID(userLogin='nicke1')"
   ]
  },
  {
   "cell_type": "markdown",
   "metadata": {},
   "source": [
    "**doGetUserLogin**  \n",
    "Metoda pozwala na sprawdzenie nazwy użytkownika na podstawie jego identyfikatora."
   ]
  },
  {
   "cell_type": "code",
   "execution_count": 10,
   "metadata": {},
   "outputs": [
    {
     "data": {
      "text/plain": [
       "nicke1"
      ]
     },
     "execution_count": 10,
     "metadata": {},
     "output_type": "execute_result"
    }
   ],
   "source": [
    "WebApi.doGetUserLogin(userId=1091465)"
   ]
  },
  {
   "cell_type": "markdown",
   "metadata": {},
   "source": [
    "**doShowUser**  \n",
    "Metoda pozwala na pobranie publicznie dostępnych informacji o dowolnym użytkowniku serwisu. Użytkownik może być wskazany za pomocą jego identyfikatora lub nazwy - w przypadku przekazania wartości w obu wymienionych parametrach, zwrócone zostaną informacje o użytkowniku wskazanym w parametrze userId."
   ]
  },
  {
   "cell_type": "code",
   "execution_count": 14,
   "metadata": {},
   "outputs": [
    {
     "data": {
      "text/plain": [
       "(reply){\n",
       "   userId = 41952603\n",
       "   userLogin = \"wwwprogres24pl\"\n",
       "   userCountry = 1\n",
       "   userCreateDate = 1448795152\n",
       "   userLoginDate = 1534451804\n",
       "   userRating = 0\n",
       "   userIsNewUser = 1\n",
       "   userNotActivated = 0\n",
       "   userClosed = 0\n",
       "   userBlocked = 0\n",
       "   userTerminated = 0\n",
       "   userHasPage = 0\n",
       "   userIsSseller = 0\n",
       "   userIsEco = 0\n",
       "   userPositiveFeedback = \n",
       "      (ShowUserFeedbacks){\n",
       "         userFLastWeek = 0\n",
       "         userFLastMonth = 0\n",
       "         userFAll = 0\n",
       "         userFSoldItems = 0\n",
       "         userFBuyItems = 0\n",
       "      }\n",
       "   userNegativeFeedback = \n",
       "      (ShowUserFeedbacks){\n",
       "         userFLastWeek = 0\n",
       "         userFLastMonth = 0\n",
       "         userFAll = 0\n",
       "         userFSoldItems = 0\n",
       "         userFBuyItems = 0\n",
       "      }\n",
       "   userNeutralFeedback = \n",
       "      (ShowUserFeedbacks){\n",
       "         userFLastWeek = 0\n",
       "         userFLastMonth = 0\n",
       "         userFAll = 0\n",
       "         userFSoldItems = 0\n",
       "         userFBuyItems = 0\n",
       "      }\n",
       "   userJuniorStatus = 0\n",
       "   userHasShop = 1\n",
       "   userCompanyIcon = 1\n",
       "   userSellRatingCount = 0\n",
       "   userSellRatingAverage = \"\"\n",
       "   userIsAllegroStandard = 0\n",
       "   userIsB2cSeller = 0\n",
       " }"
      ]
     },
     "execution_count": 14,
     "metadata": {},
     "output_type": "execute_result"
    }
   ],
   "source": [
    "WebApi.doShowUser(userLogin='wwwprogres24pl')"
   ]
  },
  {
   "cell_type": "markdown",
   "metadata": {},
   "source": [
    "Najciekawszą ale nie zaimplementowaną w pakiecie jeszcze metodą jest [doGetItemsList](https://allegro.pl/webapi/documentation.php/show/id,1342) -> wyszukiwarka i listingi. "
   ]
  },
  {
   "cell_type": "markdown",
   "metadata": {},
   "source": [
    "Może do niej wrócę. Na razie zabieram się za Rest API które ma większe możliwosci"
   ]
  }
 ],
 "metadata": {
  "kernelspec": {
   "display_name": "Python 3",
   "language": "python",
   "name": "python3"
  },
  "language_info": {
   "codemirror_mode": {
    "name": "ipython",
    "version": 3
   },
   "file_extension": ".py",
   "mimetype": "text/x-python",
   "name": "python",
   "nbconvert_exporter": "python",
   "pygments_lexer": "ipython3",
   "version": "3.6.4"
  }
 },
 "nbformat": 4,
 "nbformat_minor": 2
}
