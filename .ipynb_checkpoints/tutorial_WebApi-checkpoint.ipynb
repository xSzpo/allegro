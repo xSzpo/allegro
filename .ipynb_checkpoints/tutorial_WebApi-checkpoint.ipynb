{
 "cells": [
  {
   "cell_type": "markdown",
   "metadata": {},
   "source": [
    "# pyAllegro: WebApi"
   ]
  },
  {
   "cell_type": "markdown",
   "metadata": {},
   "source": [
    "## Import package and setup credentials"
   ]
  },
  {
   "cell_type": "code",
   "execution_count": 1,
   "metadata": {},
   "outputs": [],
   "source": [
    "from pyAllegro.api import AllegroWebApi"
   ]
  },
  {
   "cell_type": "markdown",
   "metadata": {},
   "source": [
    "```\n",
    "from allegro_api.AllegroRestApi import AllegroRestApi\n",
    "\n",
    "WebApi = AllegroWebApi()\n",
    "#WebApi = AllegroWebApi(config_file_dir='/Users/xszpo/.allegroApiConfig')\n",
    "\n",
    "WebApi.credentials_set(\n",
    "        appName='<credentials from allegro>',\n",
    "        clientId='<credentials from allegro>',\n",
    "        clientSecred='<credentials from allegro>',\n",
    "        userLogin='<allegro login>',\n",
    "        redirectUrl='<redirect uri - the same you provided during app registration on allegro >',\n",
    "        appPassword='<app password>'\n",
    "        )\n",
    "```"
   ]
  },
  {
   "cell_type": "markdown",
   "metadata": {},
   "source": [
    "## Start session "
   ]
  },
  {
   "cell_type": "code",
   "execution_count": 2,
   "metadata": {},
   "outputs": [],
   "source": [
    "WebApi = AllegroWebApi()"
   ]
  },
  {
   "cell_type": "code",
   "execution_count": 3,
   "metadata": {},
   "outputs": [],
   "source": [
    "WebApi.start_sesion()"
   ]
  },
  {
   "cell_type": "markdown",
   "metadata": {},
   "source": [
    "## Now you can use some built-in methods:"
   ]
  },
  {
   "cell_type": "code",
   "execution_count": 4,
   "metadata": {},
   "outputs": [
    {
     "data": {
      "text/plain": [
       "1091465"
      ]
     },
     "execution_count": 4,
     "metadata": {},
     "output_type": "execute_result"
    }
   ],
   "source": [
    "WebApi.doGetUserID(userLogin='nicke1')"
   ]
  },
  {
   "cell_type": "code",
   "execution_count": 5,
   "metadata": {},
   "outputs": [
    {
     "data": {
      "text/plain": [
       "nicke1"
      ]
     },
     "execution_count": 5,
     "metadata": {},
     "output_type": "execute_result"
    }
   ],
   "source": [
    "WebApi.doGetUserLogin(userId=1091465)"
   ]
  },
  {
   "cell_type": "code",
   "execution_count": 6,
   "metadata": {},
   "outputs": [
    {
     "data": {
      "text/plain": [
       "(reply){\n",
       "   userId = 41952603\n",
       "   userLogin = \"wwwprogres24pl\"\n",
       "   userCountry = 1\n",
       "   userCreateDate = 1448795152\n",
       "   userLoginDate = 1535299374\n",
       "   userRating = 0\n",
       "   userIsNewUser = 1\n",
       "   userNotActivated = 0\n",
       "   userClosed = 0\n",
       "   userBlocked = 0\n",
       "   userTerminated = 0\n",
       "   userHasPage = 0\n",
       "   userIsSseller = 0\n",
       "   userIsEco = 0\n",
       "   userPositiveFeedback = \n",
       "      (ShowUserFeedbacks){\n",
       "         userFLastWeek = 0\n",
       "         userFLastMonth = 0\n",
       "         userFAll = 0\n",
       "         userFSoldItems = 0\n",
       "         userFBuyItems = 0\n",
       "      }\n",
       "   userNegativeFeedback = \n",
       "      (ShowUserFeedbacks){\n",
       "         userFLastWeek = 0\n",
       "         userFLastMonth = 0\n",
       "         userFAll = 0\n",
       "         userFSoldItems = 0\n",
       "         userFBuyItems = 0\n",
       "      }\n",
       "   userNeutralFeedback = \n",
       "      (ShowUserFeedbacks){\n",
       "         userFLastWeek = 0\n",
       "         userFLastMonth = 0\n",
       "         userFAll = 0\n",
       "         userFSoldItems = 0\n",
       "         userFBuyItems = 0\n",
       "      }\n",
       "   userJuniorStatus = 0\n",
       "   userHasShop = 1\n",
       "   userCompanyIcon = 1\n",
       "   userSellRatingCount = 0\n",
       "   userSellRatingAverage = \"\"\n",
       "   userIsAllegroStandard = 0\n",
       "   userIsB2cSeller = 0\n",
       " }"
      ]
     },
     "execution_count": 6,
     "metadata": {},
     "output_type": "execute_result"
    }
   ],
   "source": [
    "WebApi.doShowUser(userLogin='wwwprogres24pl')"
   ]
  },
  {
   "cell_type": "markdown",
   "metadata": {},
   "source": [
    "**You can convert results to JSON with ```WebApi.response2JSON()``` function**"
   ]
  },
  {
   "cell_type": "code",
   "execution_count": 7,
   "metadata": {
    "scrolled": false
   },
   "outputs": [
    {
     "data": {
      "text/plain": [
       "{'userId': 41952603,\n",
       " 'userLogin': 'wwwprogres24pl',\n",
       " 'userCountry': 1,\n",
       " 'userCreateDate': 1448795152,\n",
       " 'userLoginDate': 1535299374,\n",
       " 'userRating': 0,\n",
       " 'userIsNewUser': 1,\n",
       " 'userNotActivated': 0,\n",
       " 'userClosed': 0,\n",
       " 'userBlocked': 0,\n",
       " 'userTerminated': 0,\n",
       " 'userHasPage': 0,\n",
       " 'userIsSseller': 0,\n",
       " 'userIsEco': 0,\n",
       " 'userPositiveFeedback': {'userFLastWeek': 0,\n",
       "  'userFLastMonth': 0,\n",
       "  'userFAll': 0,\n",
       "  'userFSoldItems': 0,\n",
       "  'userFBuyItems': 0},\n",
       " 'userNegativeFeedback': {'userFLastWeek': 0,\n",
       "  'userFLastMonth': 0,\n",
       "  'userFAll': 0,\n",
       "  'userFSoldItems': 0,\n",
       "  'userFBuyItems': 0},\n",
       " 'userNeutralFeedback': {'userFLastWeek': 0,\n",
       "  'userFLastMonth': 0,\n",
       "  'userFAll': 0,\n",
       "  'userFSoldItems': 0,\n",
       "  'userFBuyItems': 0},\n",
       " 'userJuniorStatus': 0,\n",
       " 'userHasShop': 1,\n",
       " 'userCompanyIcon': 1,\n",
       " 'userSellRatingCount': 0,\n",
       " 'userSellRatingAverage': '',\n",
       " 'userIsAllegroStandard': 0,\n",
       " 'userIsB2cSeller': 0}"
      ]
     },
     "execution_count": 7,
     "metadata": {},
     "output_type": "execute_result"
    }
   ],
   "source": [
    "WebApi.response2JSON(WebApi.doShowUser(userLogin='wwwprogres24pl'))"
   ]
  },
  {
   "cell_type": "markdown",
   "metadata": {},
   "source": [
    "## Or call all methods that allegro Web Api [providing](https://allegro.pl/webapi/documentation.php):"
   ]
  },
  {
   "cell_type": "markdown",
   "metadata": {},
   "source": [
    "Use [Lightweight SOAP client (Jurko's fork)](https://pypi.org/project/suds-jurko/) Client.service"
   ]
  },
  {
   "cell_type": "code",
   "execution_count": 8,
   "metadata": {},
   "outputs": [],
   "source": [
    "service = WebApi.Client.service"
   ]
  },
  {
   "cell_type": "markdown",
   "metadata": {},
   "source": [
    "```\n",
    "WSDL - jest to język pliku który definiuje dany Web Service, z niego dowiadujemy się co ma on nam do zaoferowania (zasoby), jakie typy obsługuje, stuktury danych wymienianych, no ogólnie taka w uproszczeniu dokumentacja w XML z której się dowiadujemy co on zaś i jak z nim gadać.\n",
    "\n",
    "Musimy jakoś przyswoić i przerobić WSDL, żeby wiedzieć jak z danym Web Service gadać. Moduł suds ma na to prosty sposób, importujemy klasę Client z jego zasobów a następnie inicjujemy ją, przekazując w jej parametrze URL do WSDL danego Web Api, tutaj wiadomo, chodzi nam o te dla Allegro, czyli:\n",
    "\n",
    "https://webapi.allegro.pl/service.php?wsdl\n",
    "\n",
    "Mamy instancję klienta, który będzie się komunikował z Web API. Aby przesłać jakieś żądanie, musimy odwołać się do odpowiedniego zasobu w serwisie. Spokojnie, to nic trudnego, wszystkie zasoby opisane są w [oficjalnej dokumentacji](https://allegro.pl/webapi/documentation.php). Odwołajmy się więc do zasobu **doGetSystemTime**, którego opis to:\n",
    "\n",
    "“Metoda pozwala na pobranie aktualnego (dla danego kraju) czasu z serwera Allegro”.\n",
    "\n",
    "service.doGetSystemTime(webapiKey='<nasz_klucz_webapi>', countryId=1)\n",
    "\n",
    "```\n",
    "[source: https://cwsi.pl](https://cwsi.pl/ecommerce/allegro/podstawy-obslugi-web-api-allegro-pl-web-services-i-modul-suds-jurko-w-pythonie/)"
   ]
  },
  {
   "cell_type": "markdown",
   "metadata": {},
   "source": [
    "**doGetUserID**"
   ]
  },
  {
   "cell_type": "code",
   "execution_count": 9,
   "metadata": {},
   "outputs": [
    {
     "data": {
      "text/plain": [
       "1091465"
      ]
     },
     "execution_count": 9,
     "metadata": {},
     "output_type": "execute_result"
    }
   ],
   "source": [
    "service.doGetUserID(\n",
    "    countryId = 1,\n",
    "    userLogin = 'nicke1',\n",
    "    userEmail='',\n",
    "    webapiKey=WebApi.Credentials['clientId']\n",
    ")"
   ]
  },
  {
   "cell_type": "markdown",
   "metadata": {},
   "source": [
    "**doGetCatsData**"
   ]
  },
  {
   "cell_type": "markdown",
   "metadata": {},
   "source": [
    "get category tree"
   ]
  },
  {
   "cell_type": "code",
   "execution_count": 10,
   "metadata": {},
   "outputs": [],
   "source": [
    "categoryTree = service.doGetCatsData(\n",
    "    countryId = 1,\n",
    "    webapiKey=WebApi.Credentials['clientId'],\n",
    ")"
   ]
  },
  {
   "cell_type": "code",
   "execution_count": 11,
   "metadata": {},
   "outputs": [],
   "source": [
    "import pandas as pd\n",
    "categoryDic =[]\n",
    "for i in categoryTree.catsList.item:\n",
    "    categoryDic.append({'catId': i.catId,\n",
    "                        'catName': i.catName,\n",
    "                        'catParent': i.catParent,\n",
    "                        'catPosition': i.catPosition ,\n",
    "                        'catIsProductCatalogueEnabled': i.catIsProductCatalogueEnabled,\n",
    "                        'catIsLeaf' : i.catIsLeaf\n",
    "                       })\n",
    "categoryDf = pd.DataFrame(categoryDic)\n",
    "del(categoryDic,categoryTree)"
   ]
  },
  {
   "cell_type": "code",
   "execution_count": 12,
   "metadata": {},
   "outputs": [
    {
     "data": {
      "text/html": [
       "<div>\n",
       "<style scoped>\n",
       "    .dataframe tbody tr th:only-of-type {\n",
       "        vertical-align: middle;\n",
       "    }\n",
       "\n",
       "    .dataframe tbody tr th {\n",
       "        vertical-align: top;\n",
       "    }\n",
       "\n",
       "    .dataframe thead th {\n",
       "        text-align: right;\n",
       "    }\n",
       "</style>\n",
       "<table border=\"1\" class=\"dataframe\">\n",
       "  <thead>\n",
       "    <tr style=\"text-align: right;\">\n",
       "      <th></th>\n",
       "      <th>catId</th>\n",
       "      <th>catIsLeaf</th>\n",
       "      <th>catIsProductCatalogueEnabled</th>\n",
       "      <th>catName</th>\n",
       "      <th>catParent</th>\n",
       "      <th>catPosition</th>\n",
       "    </tr>\n",
       "  </thead>\n",
       "  <tbody>\n",
       "    <tr>\n",
       "      <th>8</th>\n",
       "      <td>9</td>\n",
       "      <td>False</td>\n",
       "      <td>0</td>\n",
       "      <td>Gry</td>\n",
       "      <td>0</td>\n",
       "      <td>8</td>\n",
       "    </tr>\n",
       "  </tbody>\n",
       "</table>\n",
       "</div>"
      ],
      "text/plain": [
       "   catId  catIsLeaf  catIsProductCatalogueEnabled catName  catParent  \\\n",
       "8      9      False                             0     Gry          0   \n",
       "\n",
       "   catPosition  \n",
       "8            8  "
      ]
     },
     "execution_count": 12,
     "metadata": {},
     "output_type": "execute_result"
    }
   ],
   "source": [
    "categoryDf.query(\"catId ==9\")"
   ]
  },
  {
   "cell_type": "markdown",
   "metadata": {},
   "source": [
    "**doGetItemsList**"
   ]
  },
  {
   "cell_type": "markdown",
   "metadata": {},
   "source": [
    "search for offers and filter it"
   ]
  },
  {
   "cell_type": "markdown",
   "metadata": {},
   "source": [
    "Some tutorials:   \n",
    "https://allegro.pl/webapi/documentation.php/show/id,1342     \n",
    "https://allegro.pl/webapi/tutorials.php/tutorial/id,281"
   ]
  },
  {
   "cell_type": "markdown",
   "metadata": {},
   "source": [
    "Search for title \"the last of us\" in \"Gry\" >\"Gry na konsole\"> \"Sony PlayStation 3 (PS3)\".    \n",
    "Sort by populatiry - decreasing "
   ]
  },
  {
   "cell_type": "code",
   "execution_count": 13,
   "metadata": {},
   "outputs": [],
   "source": [
    "params = [{'item': [\n",
    "    {'filterId': 'category', 'filterValueId': {'item': 82397}},\n",
    "    {'filterId': 'search', 'filterValueId': {'item': 'the last of us'}}\n",
    "]}]"
   ]
  },
  {
   "cell_type": "code",
   "execution_count": 14,
   "metadata": {
    "scrolled": false
   },
   "outputs": [],
   "source": [
    "response = service.doGetItemsList(\n",
    "    countryId = 1,\n",
    "    webapiKey=WebApi.Credentials['clientId'],\n",
    "    filterOptions = params,\n",
    "    sortOptions = [{'sortType':'popularity','sortOrder':'desc'}]\n",
    ")"
   ]
  },
  {
   "cell_type": "code",
   "execution_count": 15,
   "metadata": {
    "scrolled": true
   },
   "outputs": [
    {
     "data": {
      "text/plain": [
       "39"
      ]
     },
     "execution_count": 15,
     "metadata": {},
     "output_type": "execute_result"
    }
   ],
   "source": [
    "response['itemsCount']"
   ]
  },
  {
   "cell_type": "markdown",
   "metadata": {},
   "source": [
    "Disply one offer"
   ]
  },
  {
   "cell_type": "code",
   "execution_count": 16,
   "metadata": {
    "scrolled": false
   },
   "outputs": [
    {
     "data": {
      "text/plain": [
       "(ItemsListType){\n",
       "   itemId = 7499420713\n",
       "   itemTitle = \"THE LAST OF US GOTY - DUBBING PL - PS3 - WYPRZEDAŻ\"\n",
       "   leftCount = 12\n",
       "   bidsCount = 38\n",
       "   biddersCount = 37\n",
       "   quantityType = \"pieces\"\n",
       "   timeToEnd = \"do wyczerpania przedmiotów\"\n",
       "   categoryId = 82422\n",
       "   conditionInfo = \"new\"\n",
       "   promotionInfo = 1\n",
       "   additionalInfo = 0\n",
       "   sellerInfo = \n",
       "      (UserInfoType){\n",
       "         userId = 22837163\n",
       "         userLogin = \"Panoramix200\"\n",
       "         userRating = 0\n",
       "         userIcons = 8\n",
       "         countryId = 1\n",
       "      }\n",
       "   priceInfo = \n",
       "      (ArrayOfPriceinfotype){\n",
       "         item[] = \n",
       "            (PriceInfoType){\n",
       "               priceType = \"buyNow\"\n",
       "               priceValue = 17.9\n",
       "            },\n",
       "            (PriceInfoType){\n",
       "               priceType = \"withDelivery\"\n",
       "               priceValue = 17.9\n",
       "            },\n",
       "      }\n",
       "   photosInfo = \n",
       "      (ArrayOfPhotoinfotype){\n",
       "         item[] = \n",
       "            (PhotoInfoType){\n",
       "               photoSize = \"small\"\n",
       "               photoUrl = \"https://redir-img14.allegroimg.com/photos/64x48/74/99/42/07/7499420713\"\n",
       "               photoIsMain = True\n",
       "            },\n",
       "            (PhotoInfoType){\n",
       "               photoSize = \"medium\"\n",
       "               photoUrl = \"https://redir-img14.allegroimg.com/photos/128x96/74/99/42/07/7499420713\"\n",
       "               photoIsMain = True\n",
       "            },\n",
       "            (PhotoInfoType){\n",
       "               photoSize = \"large\"\n",
       "               photoUrl = \"https://redir-img14.allegroimg.com/photos/400x300/74/99/42/07/7499420713\"\n",
       "               photoIsMain = True\n",
       "            },\n",
       "      }\n",
       "   parametersInfo = \n",
       "      (ArrayOfParameterinfotype){\n",
       "         item[] = \n",
       "            (ParameterInfoType){\n",
       "               parameterName = \"Stan\"\n",
       "               parameterValue = \n",
       "                  (ArrayOfString){\n",
       "                     item[] = \n",
       "                        \"Nowy\",\n",
       "                  }\n",
       "               parameterUnit = None\n",
       "               parameterIsRange = False\n",
       "            },\n",
       "            (ParameterInfoType){\n",
       "               parameterName = \"Rodzaj wydania\"\n",
       "               parameterValue = \n",
       "                  (ArrayOfString){\n",
       "                     item[] = \n",
       "                        \"Edycja GOTY\",\n",
       "                  }\n",
       "               parameterUnit = None\n",
       "               parameterIsRange = False\n",
       "            },\n",
       "      }\n",
       " }"
      ]
     },
     "execution_count": 16,
     "metadata": {},
     "output_type": "execute_result"
    }
   ],
   "source": [
    "response['itemsList'][0][0]"
   ]
  },
  {
   "cell_type": "markdown",
   "metadata": {},
   "source": [
    "** Convert resaults to JSON **"
   ]
  },
  {
   "cell_type": "code",
   "execution_count": 17,
   "metadata": {},
   "outputs": [
    {
     "data": {
      "text/plain": [
       "{'itemId': 7499420713,\n",
       " 'itemTitle': 'THE LAST OF US GOTY - DUBBING PL - PS3 - WYPRZEDAŻ',\n",
       " 'leftCount': 12,\n",
       " 'bidsCount': 38,\n",
       " 'biddersCount': 37,\n",
       " 'quantityType': 'pieces',\n",
       " 'timeToEnd': 'do wyczerpania przedmiotów',\n",
       " 'categoryId': 82422,\n",
       " 'conditionInfo': 'new',\n",
       " 'promotionInfo': 1,\n",
       " 'additionalInfo': 0,\n",
       " 'sellerInfo': {'userId': 22837163,\n",
       "  'userLogin': 'Panoramix200',\n",
       "  'userRating': 0,\n",
       "  'userIcons': 8,\n",
       "  'countryId': 1},\n",
       " 'priceInfo': {'item': [{'priceType': 'buyNow', 'priceValue': 17.9},\n",
       "   {'priceType': 'withDelivery', 'priceValue': 17.9}]},\n",
       " 'photosInfo': {'item': [{'photoSize': 'small',\n",
       "    'photoUrl': 'https://redir-img14.allegroimg.com/photos/64x48/74/99/42/07/7499420713',\n",
       "    'photoIsMain': True},\n",
       "   {'photoSize': 'medium',\n",
       "    'photoUrl': 'https://redir-img14.allegroimg.com/photos/128x96/74/99/42/07/7499420713',\n",
       "    'photoIsMain': True},\n",
       "   {'photoSize': 'large',\n",
       "    'photoUrl': 'https://redir-img14.allegroimg.com/photos/400x300/74/99/42/07/7499420713',\n",
       "    'photoIsMain': True}]},\n",
       " 'parametersInfo': {'item': [{'parameterName': 'Stan',\n",
       "    'parameterValue': {'item': ['Nowy']},\n",
       "    'parameterUnit': None,\n",
       "    'parameterIsRange': False},\n",
       "   {'parameterName': 'Rodzaj wydania',\n",
       "    'parameterValue': {'item': ['Edycja GOTY']},\n",
       "    'parameterUnit': None,\n",
       "    'parameterIsRange': False}]}}"
      ]
     },
     "execution_count": 17,
     "metadata": {},
     "output_type": "execute_result"
    }
   ],
   "source": [
    "WebApi.response2JSON(response)['itemsList']['item'][0]"
   ]
  }
 ],
 "metadata": {
  "kernelspec": {
   "display_name": "Python 3",
   "language": "python",
   "name": "python3"
  },
  "language_info": {
   "codemirror_mode": {
    "name": "ipython",
    "version": 3
   },
   "file_extension": ".py",
   "mimetype": "text/x-python",
   "name": "python",
   "nbconvert_exporter": "python",
   "pygments_lexer": "ipython3",
   "version": "3.6.4"
  }
 },
 "nbformat": 4,
 "nbformat_minor": 2
}
